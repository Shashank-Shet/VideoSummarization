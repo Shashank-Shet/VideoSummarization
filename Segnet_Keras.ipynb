{
 "cells": [
  {
   "cell_type": "code",
   "execution_count": 30,
   "metadata": {},
   "outputs": [],
   "source": [
    "import tensorflow as tf\n",
    "import tensorflow.keras.backend as K\n",
    "from tensorflow.keras.layers import Conv2D, BatchNormalization, Reshape, Lambda, Input, Activation\n",
    "from tensorflow.keras.models import Model"
   ]
  },
  {
   "cell_type": "code",
   "execution_count": 5,
   "metadata": {},
   "outputs": [],
   "source": [
    "def MaxPool2DWithArgmax(input_tensor, ksize, strides):\n",
    "    p, m = tf.nn.max_pool_with_argmax(input_tensor, ksize=ksize, strides=strides, padding=\"SAME\", include_batch_in_index=True)\n",
    "    m = K.cast(m, dtype=tf.int32)\n",
    "    return [p, m]"
   ]
  },
  {
   "cell_type": "code",
   "execution_count": 19,
   "metadata": {},
   "outputs": [],
   "source": [
    "def Unpool2D(input_tensors, factor):\n",
    "    pool, mask = input_tensors\n",
    "    indices = tf.reshape(mask, (-1,mask.shape[1]*mask.shape[2]*mask.shape[3],1))\n",
    "    values = tf.reshape(pool, (-1,pool.shape[1]*pool.shape[2]*mask.shape[3]))\n",
    "    size = tf.size(indices) * factor[1] * factor[2]\n",
    "    size = tf.reshape(size, [-1])\n",
    "    t = tf.scatter_nd(indices, values, size)\n",
    "    t = tf.reshape(t, (-1, mask.shape[1]*factor[1], mask.shape[2]*factor[2], mask.shape[3]))\n",
    "    return t"
   ]
  },
  {
   "cell_type": "markdown",
   "metadata": {},
   "source": [
    "# Encoder Network"
   ]
  },
  {
   "cell_type": "code",
   "execution_count": 29,
   "metadata": {},
   "outputs": [],
   "source": [
    "input_shape = (256, 256, 3)\n",
    "kernel = 2\n",
    "args = {\"ksize\": (1,2,2,1), \"strides\":(1,2,2,1)}\n",
    "\n",
    "inputs = Input(input_shape)\n",
    "x = Conv2D(64, (kernel, kernel), padding=\"same\")(inputs)\n",
    "x = BatchNormalization()(x)\n",
    "x = Activation(\"relu\")(x)\n",
    "x = Conv2D(64, (kernel, kernel), padding=\"same\")(x)\n",
    "x = BatchNormalization()(x)\n",
    "x = Activation(\"relu\")(x)\n",
    "\n",
    "pool_1, mask_1 = Lambda(MaxPool2DWithArgmax, arguments=args)(x)\n",
    "\n",
    "x = Conv2D(128, (kernel, kernel), padding=\"same\")(pool_1)\n",
    "x = BatchNormalization()(x)\n",
    "x = Activation(\"relu\")(x)\n",
    "x = Conv2D(128, (kernel, kernel), padding=\"same\")(x)\n",
    "x = BatchNormalization()(x)\n",
    "x = Activation(\"relu\")(x)\n",
    "\n",
    "pool_2, mask_2 = Lambda(MaxPool2DWithArgmax, arguments=args)(x)\n",
    "\n",
    "x = Conv2D(256, (kernel, kernel), padding=\"same\")(pool_2)\n",
    "x = BatchNormalization()(x)\n",
    "x = Activation(\"relu\")(x)\n",
    "x = Conv2D(256, (kernel, kernel), padding=\"same\")(x)\n",
    "x = BatchNormalization()(x)\n",
    "x = Activation(\"relu\")(x)\n",
    "x = Conv2D(256, (kernel, kernel), padding=\"same\")(x)\n",
    "x = BatchNormalization()(x)\n",
    "x = Activation(\"relu\")(x)\n",
    "\n",
    "pool_3, mask_3 = Lambda(MaxPool2DWithArgmax, arguments=args)(x)\n",
    "\n",
    "x = Conv2D(512, (kernel, kernel), padding=\"same\")(pool_3)\n",
    "x = BatchNormalization()(x)\n",
    "x = Activation(\"relu\")(x)\n",
    "x = Conv2D(512, (kernel, kernel), padding=\"same\")(x)\n",
    "x = BatchNormalization()(x)\n",
    "x = Activation(\"relu\")(x)\n",
    "x = Conv2D(512, (kernel, kernel), padding=\"same\")(x)\n",
    "x = BatchNormalization()(x)\n",
    "x = Activation(\"relu\")(x)\n",
    "\n",
    "pool_4, mask_4 = Lambda(MaxPool2DWithArgmax, arguments=args)(x)\n",
    "\n",
    "x = Conv2D(512, (kernel, kernel), padding=\"same\")(pool_4)\n",
    "x = BatchNormalization()(x)\n",
    "x = Activation(\"relu\")(x)\n",
    "x = Conv2D(512, (kernel, kernel), padding=\"same\")(x)\n",
    "x = BatchNormalization()(x)\n",
    "x = Activation(\"relu\")(x)\n",
    "x = Conv2D(512, (kernel, kernel), padding=\"same\")(x)\n",
    "x = BatchNormalization()(x)\n",
    "x = Activation(\"relu\")(x)\n",
    "\n",
    "pool_5, mask_5 = Lambda(MaxPool2DWithArgmax, arguments=args)(x)\n",
    "\n"
   ]
  },
  {
   "cell_type": "markdown",
   "metadata": {},
   "source": [
    "# Decoder Network"
   ]
  },
  {
   "cell_type": "code",
   "execution_count": 31,
   "metadata": {},
   "outputs": [],
   "source": [
    "pool_size = (1,2,2,1)\n",
    "n_labels = 10\n",
    "\n",
    "x = Lambda(Unpool2D, arguments={\"factor\": pool_size})([pool_5, mask_5])\n",
    "\n",
    "x = Conv2D(512, (kernel, kernel), padding=\"same\")(x)\n",
    "x = BatchNormalization()(x)\n",
    "x = Activation(\"relu\")(x)\n",
    "x = Conv2D(512, (kernel, kernel), padding=\"same\")(x)\n",
    "x = BatchNormalization()(x)\n",
    "x = Activation(\"relu\")(x)\n",
    "x = Conv2D(512, (kernel, kernel), padding=\"same\")(x)\n",
    "x = BatchNormalization()(x)\n",
    "x = Activation(\"relu\")(x)\n",
    "\n",
    "x = Lambda(Unpool2D, arguments={\"factor\": pool_size})([x, mask_4])\n",
    "\n",
    "x = Conv2D(512, (kernel, kernel), padding=\"same\")(x)\n",
    "x = BatchNormalization()(x)\n",
    "x = Activation(\"relu\")(x)\n",
    "x = Conv2D(512, (kernel, kernel), padding=\"same\")(x)\n",
    "x = BatchNormalization()(x)\n",
    "x = Activation(\"relu\")(x)\n",
    "x = Conv2D(256, (kernel, kernel), padding=\"same\")(x)\n",
    "x = BatchNormalization()(x)\n",
    "x = Activation(\"relu\")(x)\n",
    "\n",
    "x = Lambda(Unpool2D, arguments={\"factor\": pool_size})([x, mask_3])\n",
    "\n",
    "x = Conv2D(256, (kernel, kernel), padding=\"same\")(x)\n",
    "x = BatchNormalization()(x)\n",
    "x = Activation(\"relu\")(x)\n",
    "x = Conv2D(256, (kernel, kernel), padding=\"same\")(x)\n",
    "x = BatchNormalization()(x)\n",
    "x = Activation(\"relu\")(x)\n",
    "x = Conv2D(128, (kernel, kernel), padding=\"same\")(x)\n",
    "x = BatchNormalization()(x)\n",
    "x = Activation(\"relu\")(x)\n",
    "\n",
    "x = Lambda(Unpool2D, arguments={\"factor\": pool_size})([x, mask_2])\n",
    "\n",
    "x = Conv2D(128, (kernel, kernel), padding=\"same\")(x)\n",
    "x = BatchNormalization()(x)\n",
    "x = Activation(\"relu\")(x)\n",
    "x = Conv2D(64, (kernel, kernel), padding=\"same\")(x)\n",
    "x = BatchNormalization()(x)\n",
    "x = Activation(\"relu\")(x)\n",
    "\n",
    "x = Lambda(Unpool2D, arguments={\"factor\": pool_size})([x, mask_1])\n",
    "\n",
    "x = Conv2D(64, (kernel, kernel), padding=\"same\")(x)\n",
    "x = BatchNormalization()(x)\n",
    "x = Activation(\"relu\")(x)\n",
    "\n",
    "x = Conv2D(n_labels, (1, 1), padding=\"valid\")(x)\n",
    "x = BatchNormalization()(x)\n",
    "\n",
    "x = Reshape(\n",
    "    (input_shape[0] * input_shape[1], n_labels),\n",
    "    input_shape=(input_shape[0], input_shape[1], n_labels),\n",
    ")(x)\n",
    "\n",
    "outputs = Activation(\"softmax\")(x)\n",
    "\n",
    "model = Model(inputs=inputs, outputs=outputs, name=\"SegNet\")\n"
   ]
  },
  {
   "cell_type": "code",
   "execution_count": 32,
   "metadata": {},
   "outputs": [
    {
     "data": {
      "text/plain": [
       "<tensorflow.python.keras.engine.training.Model at 0x7f234d57ded0>"
      ]
     },
     "execution_count": 32,
     "metadata": {},
     "output_type": "execute_result"
    }
   ],
   "source": [
    "model"
   ]
  }
 ],
 "metadata": {
  "kernelspec": {
   "display_name": "Python 3",
   "language": "python",
   "name": "python3"
  },
  "language_info": {
   "codemirror_mode": {
    "name": "ipython",
    "version": 3
   },
   "file_extension": ".py",
   "mimetype": "text/x-python",
   "name": "python",
   "nbconvert_exporter": "python",
   "pygments_lexer": "ipython3",
   "version": "3.7.5"
  }
 },
 "nbformat": 4,
 "nbformat_minor": 4
}
