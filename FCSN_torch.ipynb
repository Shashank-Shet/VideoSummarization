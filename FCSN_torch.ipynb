{
 "cells": [
  {
   "cell_type": "code",
   "execution_count": 4,
   "metadata": {},
   "outputs": [],
   "source": [
    "import torch\n",
    "from torch import nn\n",
    "from collections import OrderedDict"
   ]
  },
  {
   "cell_type": "code",
   "execution_count": 11,
   "metadata": {},
   "outputs": [],
   "source": [
    "class FCSN(nn.Module):\n",
    "    def __init__(self, n_class=2):\n",
    "        super(FCSN, self).__init__()\n",
    "\n",
    "        self.conv1 = nn.Sequential(OrderedDict([\n",
    "            ('conv1_1', nn.Conv1d(1024, 1024, 3, padding=1)),\n",
    "            ('bn1_1', nn.BatchNorm1d(1024)),\n",
    "            ('relu1_1', nn.ReLU(inplace=True)),\n",
    "            ('conv1_2', nn.Conv1d(1024, 1024, 3, padding=1)),\n",
    "            ('bn1_2', nn.BatchNorm1d(1024)),\n",
    "            ('relu1_2', nn.ReLU(inplace=True)),\n",
    "            ('pool1', nn.MaxPool1d(2, stride=2, ceil_mode=True))\n",
    "            ])) # 1/2\n",
    "\n",
    "        self.conv2 = nn.Sequential(OrderedDict([\n",
    "            ('conv2_1', nn.Conv1d(1024, 1024, 3, padding=1)),\n",
    "            ('bn2_1', nn.BatchNorm1d(1024)),\n",
    "            ('relu2_1', nn.ReLU(inplace=True)),\n",
    "            ('conv2_2', nn.Conv1d(1024, 1024, 3, padding=1)),\n",
    "            ('bn2_2', nn.BatchNorm1d(1024)),\n",
    "            ('relu2_2', nn.ReLU(inplace=True)),\n",
    "            ('pool2', nn.MaxPool1d(2, stride=2, ceil_mode=True))\n",
    "            ])) # 1/4\n",
    "\n",
    "        self.conv3 = nn.Sequential(OrderedDict([\n",
    "            ('conv3_1', nn.Conv1d(1024, 1024, 3, padding=1)),\n",
    "            ('bn3_1', nn.BatchNorm1d(1024)),\n",
    "            ('relu3_1', nn.ReLU(inplace=True)),\n",
    "            ('conv3_2', nn.Conv1d(1024, 1024, 3, padding=1)),\n",
    "            ('bn3_2', nn.BatchNorm1d(1024)),\n",
    "            ('relu3_2', nn.ReLU(inplace=True)),\n",
    "            ('conv3_3', nn.Conv1d(1024, 1024, 3, padding=1)),\n",
    "            ('bn3_3', nn.BatchNorm1d(1024)),\n",
    "            ('relu3_3', nn.ReLU(inplace=True)),\n",
    "            ('pool3', nn.MaxPool1d(2, stride=2, ceil_mode=True))\n",
    "            ])) # 1/8\n",
    "\n",
    "        self.conv4 = nn.Sequential(OrderedDict([\n",
    "            ('conv4_1', nn.Conv1d(1024, 2048, 3, padding=1)),\n",
    "            ('bn4_1', nn.BatchNorm1d(2048)),\n",
    "            ('relu4_1', nn.ReLU(inplace=True)),\n",
    "            ('conv4_2', nn.Conv1d(2048, 2048, 3, padding=1)),\n",
    "            ('bn4_2', nn.BatchNorm1d(2048)),\n",
    "            ('relu4_2', nn.ReLU(inplace=True)),\n",
    "            ('conv4_3', nn.Conv1d(2048, 2048, 3, padding=1)),\n",
    "            ('bn4_3', nn.BatchNorm1d(2048)),\n",
    "            ('relu4_3', nn.ReLU(inplace=True)),\n",
    "            ('pool4', nn.MaxPool1d(2, stride=2, ceil_mode=True))\n",
    "            ])) # 1/16\n",
    "\n",
    "        self.conv5 = nn.Sequential(OrderedDict([\n",
    "            ('conv5_1', nn.Conv1d(2048, 2048, 3, padding=1)),\n",
    "            ('bn5_1', nn.BatchNorm1d(2048)),\n",
    "            ('relu5_1', nn.ReLU(inplace=True)),\n",
    "            ('conv5_2', nn.Conv1d(2048, 2048, 3, padding=1)),\n",
    "            ('bn5_2', nn.BatchNorm1d(2048)),\n",
    "            ('relu5_2', nn.ReLU(inplace=True)),\n",
    "            ('conv5_3', nn.Conv1d(2048, 2048, 3, padding=1)),\n",
    "            ('bn5_3', nn.BatchNorm1d(2048)),\n",
    "            ('relu5_3', nn.ReLU(inplace=True)),\n",
    "            ('pool5', nn.MaxPool1d(2, stride=2, ceil_mode=True))\n",
    "            ])) # 1/32\n",
    "\n",
    "        self.conv6 = nn.Sequential(OrderedDict([\n",
    "            ('fc6', nn.Conv1d(2048, 4096, 1)),\n",
    "            ('bn6', nn.BatchNorm1d(4096)),\n",
    "            ('relu6', nn.ReLU(inplace=True)),\n",
    "            ('drop6', nn.Dropout())\n",
    "            ]))\n",
    "   \n",
    "        self.conv7 = nn.Sequential(OrderedDict([\n",
    "            ('fc7', nn.Conv1d(4096, 4096, 1)),\n",
    "            ('bn7', nn.BatchNorm1d(4096)),\n",
    "            ('relu7', nn.ReLU(inplace=True)),\n",
    "            ('drop7', nn.Dropout())\n",
    "            ]))\n",
    "\n",
    "        self.conv8 = nn.Sequential(OrderedDict([\n",
    "            ('fc8', nn.Conv1d(4096, n_class, 1)),\n",
    "            ('bn8', nn.BatchNorm1d(n_class)),\n",
    "            ('relu8', nn.ReLU(inplace=True)),\n",
    "            ]))\n",
    "\n",
    "        self.conv_pool4 = nn.Conv1d(2048, n_class, 1)\n",
    "        self.bn_pool4 = nn.BatchNorm1d(n_class)\n",
    "\n",
    "        self.deconv1 = nn.ConvTranspose1d(n_class, n_class, 4, padding=1, stride=2, bias=False)\n",
    "        self.deconv2 = nn.ConvTranspose1d(n_class, n_class, 16, stride=16, bias=False)\n",
    "\n",
    "    def forward(self, x):\n",
    "\n",
    "        h = x\n",
    "        h = self.conv1(h)\n",
    "        h = self.conv2(h)\n",
    "        h = self.conv3(h)\n",
    "        h = self.conv4(h)\n",
    "        pool4 = h\n",
    "        \n",
    "        h = self.conv5(h)\n",
    "        h = self.conv6(h)\n",
    "        h = self.conv7(h)\n",
    "        h = self.conv8(h)\n",
    "\n",
    "        print(\"Upscore ip shape:\", h.shape)\n",
    "        h = self.deconv1(h)\n",
    "        upscore2 = h\n",
    "\n",
    "        print(\"Upscore shape:\", upscore2.shape)\n",
    "        \n",
    "        h = self.conv_pool4(pool4)\n",
    "        h = self.bn_pool4(h)\n",
    "        score_pool4 = h\n",
    "\n",
    "        h = upscore2 + score_pool4\n",
    "\n",
    "        h = self.deconv2(h)\n",
    "\n",
    "        return h\n"
   ]
  },
  {
   "cell_type": "code",
   "execution_count": 12,
   "metadata": {},
   "outputs": [],
   "source": [
    "net = FCSN()\n",
    "data = torch.randn((1, 1024, 320))"
   ]
  },
  {
   "cell_type": "code",
   "execution_count": 13,
   "metadata": {},
   "outputs": [
    {
     "name": "stdout",
     "output_type": "stream",
     "text": [
      "Upscore ip shape: torch.Size([1, 2, 10])\n",
      "Upscore shape: torch.Size([1, 2, 20])\n"
     ]
    },
    {
     "data": {
      "text/plain": [
       "torch.Size([1, 2, 320])"
      ]
     },
     "execution_count": 13,
     "metadata": {},
     "output_type": "execute_result"
    }
   ],
   "source": [
    "net.forward(data).shape"
   ]
  }
 ],
 "metadata": {
  "kernelspec": {
   "display_name": "Python 3",
   "language": "python",
   "name": "python3"
  },
  "language_info": {
   "codemirror_mode": {
    "name": "ipython",
    "version": 3
   },
   "file_extension": ".py",
   "mimetype": "text/x-python",
   "name": "python",
   "nbconvert_exporter": "python",
   "pygments_lexer": "ipython3",
   "version": "3.7.5"
  }
 },
 "nbformat": 4,
 "nbformat_minor": 4
}
